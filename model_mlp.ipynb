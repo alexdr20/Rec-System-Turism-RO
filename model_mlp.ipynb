{
 "cells": [
  {
   "cell_type": "code",
   "execution_count": 3,
   "id": "812c9ea6",
   "metadata": {},
   "outputs": [
    {
     "name": "stdout",
     "output_type": "stream",
     "text": [
      "✅ Modelul MLP a fost salvat în mlp_model.pkl\n"
     ]
    }
   ],
   "source": [
    "from sklearn.neural_network import MLPClassifier\n",
    "from sklearn.model_selection import train_test_split\n",
    "import pandas as pd\n",
    "import joblib\n",
    "\n",
    "# === 1. Încarcă datele ===\n",
    "df = pd.read_csv(\"statiuni_caracteristici_coord.csv\")\n",
    "feature_names = [\n",
    "    'sezon_rece', 'sezon_cald', 'sezon_tot',\n",
    "    'travelerType_Couple', 'travelerType_Family', 'travelerType_Solo traveler', 'travelerType_Group',\n",
    "    'activitate_principala_plaja', 'activitate_principala_partie',\n",
    "    'activitate_principala_trasee', 'activitate_principala_tratament',\n",
    "    'Info', 'Cultura', 'Alimentatie',\n",
    "    'buget_scazut', 'buget_ridicat', 'numberOfNights'\n",
    "]\n",
    "\n",
    "X = df[feature_names]\n",
    "y = (X[\"numberOfNights\"] > 3).astype(int)  # exemplu de target\n",
    "\n",
    "# === 2. Împărțire train/test\n",
    "X_train, X_test, y_train, y_test = train_test_split(X, y, stratify=y, test_size=0.2, random_state=42)\n",
    "\n",
    "# === 3. Antrenare model\n",
    "mlp_model = MLPClassifier(hidden_layer_sizes=(50,), max_iter=500, random_state=42)\n",
    "mlp_model.fit(X_train, y_train)\n",
    "\n",
    "# === 4. Salvare model\n",
    "joblib.dump(mlp_model, \"mlp_model.pkl\")\n",
    "print(\"✅ Modelul MLP a fost salvat în mlp_model.pkl\")\n"
   ]
  }
 ],
 "metadata": {
  "kernelspec": {
   "display_name": "Python 3",
   "language": "python",
   "name": "python3"
  },
  "language_info": {
   "codemirror_mode": {
    "name": "ipython",
    "version": 3
   },
   "file_extension": ".py",
   "mimetype": "text/x-python",
   "name": "python",
   "nbconvert_exporter": "python",
   "pygments_lexer": "ipython3",
   "version": "3.11.9"
  }
 },
 "nbformat": 4,
 "nbformat_minor": 5
}
